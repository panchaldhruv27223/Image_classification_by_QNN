{
 "cells": [
  {
   "cell_type": "code",
   "execution_count": 1,
   "metadata": {},
   "outputs": [],
   "source": [
    "import pennylane as qml\n",
    "from pennylane import numpy as np\n",
    "from pennylane.templates import RandomLayers # helps in the generation of a random circuit\n",
    "\n",
    "import tensorflow as tf\n",
    "from tensorflow import keras\n",
    "import matplotlib.pyplot as plt\n",
    "import math\n",
    "from torchvision import datasets\n",
    "\n",
    "import torch\n",
    "from torch.autograd import Function\n",
    "from torchvision import datasets, transforms\n",
    "import torch.optim as optim\n",
    "import torch.nn as nn\n",
    "import torch.nn.functional as F"
   ]
  },
  {
   "cell_type": "code",
   "execution_count": 2,
   "metadata": {},
   "outputs": [],
   "source": [
    "from tensorflow.keras.datasets import cifar10\n",
    "(train_images, train_labels), (test_images, test_labels) = cifar10.load_data()"
   ]
  },
  {
   "cell_type": "code",
   "execution_count": 12,
   "metadata": {},
   "outputs": [],
   "source": [
    "import cv2\n",
    "\n",
    "train_images_gray_scale = []\n",
    "test_images_gray_scale = []\n",
    "for i in range(len(train_images)):\n",
    "    train_images_gray_scale.append(cv2.cvtColor(train_images[i], cv2.COLOR_BGR2GRAY))\n",
    "\n",
    "for i in range(len(test_images)):\n",
    "    test_images_gray_scale.append(cv2.cvtColor(test_images[i], cv2.COLOR_BGR2GRAY))\n",
    "\n",
    "train_images_gray_scale = np.array(train_images_gray_scale)\n",
    "test_images_gray_scale = np.array(test_images_gray_scale)\n",
    "\n",
    "\n",
    "train_images_gray_scale = train_images_gray_scale / 255\n",
    "test_images_gray_scale = test_images_gray_scale / 255\n",
    "\n",
    "train_images_gray_scale = train_images_gray_scale[..., tf.newaxis]\n",
    "test_images_gray_scale = test_images_gray_scale[..., tf.newaxis]"
   ]
  },
  {
   "cell_type": "code",
   "execution_count": null,
   "metadata": {},
   "outputs": [],
   "source": [
    "n_epochs = 30    # Number of optimization epochs\n",
    "lr = 0.05  # Learning rates\n",
    "n_train = 1000    # no of images for training\n",
    "n_test = 100    # no of images for testing\n",
    "BATCH_SIZE = 256"
   ]
  },
  {
   "cell_type": "code",
   "execution_count": 13,
   "metadata": {},
   "outputs": [],
   "source": [
    "# train_images = train_images_gray_scale[:n_train]\n",
    "# train_labels = train_labels[:n_train]\n",
    "# test_images = train_images_gray_scale[:n_test]\n",
    "# test_labels = test_labels[:n_test]\n",
    "\n",
    "train_images = train_images_gray_scale\n",
    "train_labels = train_labels\n",
    "test_images = train_images_gray_scale\n",
    "test_labels = test_labels\n"
   ]
  },
  {
   "cell_type": "code",
   "execution_count": 14,
   "metadata": {},
   "outputs": [
    {
     "data": {
      "text/plain": [
       "(50000, 32, 32, 1)"
      ]
     },
     "execution_count": 14,
     "metadata": {},
     "output_type": "execute_result"
    }
   ],
   "source": [
    "train_images.shape"
   ]
  },
  {
   "cell_type": "code",
   "execution_count": 15,
   "metadata": {},
   "outputs": [],
   "source": [
    "class Quanvolutional_Layer(keras.layers.Layer):\n",
    "\n",
    "  def __init__(self,size_filter,layers_filter,stride_filter,padding):\n",
    "    super(Quanvolutional_Layer,self).__init__()\n",
    "    self.size_filter   = size_filter\n",
    "    self.layers_filter = layers_filter\n",
    "    self.stride_filter = stride_filter\n",
    "    self.padding       = padding\n",
    "    # Based on the quanvolutional filter size we set up appropriate number of wires since each pixel gets assigned a qubit (the encoding we went with)\n",
    "    self.dev           = qml.device(\"default.qubit\", wires=(self.size_filter*self.size_filter))\n",
    "    # Random parameters required for each quantum convolutional filter based on the number of wires i.e. filter size\n",
    "    self.rand_params   = np.random.uniform(high=2 * np.pi, size=(layers_filter, (size_filter*size_filter)))\n",
    "    print(\"Created Basic Properties\")\n",
    "\n",
    "  # The qfilter generted will have the following gate properties :\n",
    "  # 1) Encoding  : Ry rotation gate where the angles are scaled by PI\n",
    "  # 2) Ciruit    : Of n_layers random in nature\n",
    "  # 3) Decoding  : 4 expectation value measurements\n",
    "  # decorator for quantum node\n",
    "\n",
    "  def creator(self,phi):\n",
    "    print(phi)\n",
    "\n",
    "    @qml.qnode(self.dev,interface=\"tf\")\n",
    "    def circuit(self,phi):\n",
    "      print(\"Reached inside\")\n",
    "      # Encoding on each of the filter value along each wire\n",
    "      for j in range(self.size_filter*self.size_filter):\n",
    "        qml.RY(np.pi * phi[j].numpy(), wires=j)\n",
    "      # Random quantum circuit generation based on the random paramters we chose\n",
    "      RandomLayers(self.rand_params, wires=list(range(self.size_filter*self.size_filter)))\n",
    "      #Measurement producing 4 classical output values, each of this value is plugged along a channel\n",
    "      return [qml.expval(qml.PauliZ(j)) for j in range(self.size_filter*self.size_filter)]\n",
    "    \n",
    "    return circuit(self,phi)\n",
    "\n",
    "  def call(self,image):\n",
    "    # 2x2 filter with stride 1 and passes the data through the quantum circuit\n",
    "    # the output of the qunatum ciruit is 4 that is mapped into 4 different channels indicating the same pixel\n",
    "    calc = math.floor((image.shape[1]+2*self.padding-self.size_filter)/self.stride_filter) + 1\n",
    "    out = np.zeros((calc,calc,(self.size_filter*self.size_filter)))\n",
    "    print(image.shape)\n",
    "    print(out.shape)\n",
    "    \n",
    "    # steps of stride\n",
    "    index = 0 \n",
    "    for i in image:\n",
    "      for j in range(0, i.shape[0], self.stride_filter):\n",
    "        for k in range(0, i.shape[1], self.stride_filter):\n",
    "          print(\"Looper\")\n",
    "          # The cicuit remains the same because the uniform random sampling is done only once\n",
    "          q_results = self.creator([i[j, k, 0], i[j, k + 1, 0], i[j + 1, k, 0], i[j + 1, k + 1, 0]])\n",
    "          print(q_results)\n",
    "          # appropriate expectation value is assigned to right channel\n",
    "          for c in range((self.size_filter*self.size_filter)):\n",
    "            out[j // 2, k // 2, c] = q_results[c]\n",
    "      index+=1\n",
    "    return out\n"
   ]
  },
  {
   "cell_type": "code",
   "execution_count": 16,
   "metadata": {},
   "outputs": [],
   "source": [
    "class Quanvolutional_Layer():\n",
    "\n",
    "  def __init__(self,size_filter,layers_filter,stride_filter,padding):\n",
    "    self.size_filter   = size_filter         # Determines the number of qubits to be required for the random cicuit (2-4)[time increases NP hard]\n",
    "    self.layers_filter = layers_filter       # Number of random circuits since each filter is a realization of a circuit\n",
    "    self.stride_filter = stride_filter       # Stride same meaning as classical counterpart\n",
    "    self.padding       = padding             # Experimental feature ***Not Implemented***\n",
    "\n",
    "    # Circuit design i.e. number of qubits required for encoding\n",
    "    self.dev           = qml.device(\"default.qubit\", wires=self.size_filter*self.size_filter)\n",
    "\n",
    "    # Along each circuit we require (filter_size)^2 parameters randomly initialized\n",
    "    self.rand_params   = np.random.uniform(high=2 * np.pi, size=(self.layers_filter, (self.size_filter*self.size_filter)))\n",
    "    # print(\"Created Basic Properties\")\n",
    "\n",
    "\n",
    "  # The qfilter generted will have the following gate properties :\n",
    "  # 1) Encoding  : Ry rotation gate where the angles are scaled by PI\n",
    "  # 2) Ciruit    : Of n_layers random in nature\n",
    "  # 3) Decoding  : 4 expectation value measurements\n",
    "  # decorator for quantum node\n",
    "  def creator(self,phi):\n",
    "    # Due the decorator access we specified a function inside another function\n",
    "\n",
    "    @qml.qnode(self.dev)\n",
    "    def circuit(phi):\n",
    "      # List containg all qubit outputs\n",
    "      op_list = []\n",
    "\n",
    "      # Encoding on each of the filter value along each wire\n",
    "      for j in range(self.size_filter*self.size_filter):\n",
    "        qml.RY(np.pi * phi[j], wires=j) # BloC sphere mapping\n",
    "\n",
    "      # Random quantum circuit generation based on the random paramters we chose\n",
    "      # The first dimension of rand_params (adjusts the number of layers we care about they are weights)\n",
    "      # Iterating one filter at a time\n",
    "      for k in self.rand_params:\n",
    "        tmp = np.expand_dims(k,axis=0) # convert into 1 layer, number of qubits\n",
    "        RandomLayers(tmp, wires=list(range(self.size_filter*self.size_filter)))\n",
    "        for j in range(self.size_filter*self.size_filter):\n",
    "          op_list.append(qml.expval(qml.PauliZ(j)))\n",
    "      return op_list\n",
    "\n",
    "    # op_list of shape : number of filters, number of qubits\n",
    "    op_list = circuit(phi)\n",
    "    op_list = np.array(op_list)\n",
    "    return list(np.reshape(op_list, (self.layers_filter, (self.size_filter*self.size_filter))))\n",
    "\n",
    "  def call(self,image):\n",
    "\n",
    "    # Sanity check wether the paramters specified is alright for the image dimensions\n",
    "    calc = math.floor((image.shape[1]+2*self.padding-self.size_filter)/self.stride_filter) + 1\n",
    "    if calc <1:\n",
    "      return -1\n",
    "    # Stide reductions along the height and width dim & filter size = number of filters * number of qubits\n",
    "    out = np.zeros((calc,calc,self.layers_filter*(self.size_filter*self.size_filter)))\n",
    "    # print(image.shape)\n",
    "    # print(out.shape)\n",
    "    \n",
    "\n",
    "    # Output collection array\n",
    "    collection = []\n",
    "    index = 0\n",
    "    for i in image:\n",
    "      out = np.zeros((calc,calc,self.layers_filter*(self.size_filter*self.size_filter)))\n",
    "      # Progress checker\n",
    "      # print(\"Image processed :\",index+1)\n",
    "      # Stride based steps\n",
    "      for j in range(0, i.shape[0], self.stride_filter):\n",
    "        for k in range(0, i.shape[1], self.stride_filter):\n",
    "          phi = []\n",
    "          # Padding not yet implemented\n",
    "          if(j+self.size_filter > i.shape[0]) | (k+self.size_filter > i.shape[1]):\n",
    "            continue\n",
    "          for l in range(j,j+self.size_filter): \n",
    "            for m in range(k,k+self.size_filter):\n",
    "              phi.append(i[l][m][0])\n",
    "              \n",
    "          q_results = self.creator(phi)\n",
    "          \n",
    "          ctr = 0\n",
    "          for x in q_results:\n",
    "            for y in range(len(x)):\n",
    "              out[j//self.stride_filter, k//self.stride_filter,ctr] = x[y]\n",
    "              ctr+=1\n",
    "      collection.append(out) \n",
    "      index+=1\n",
    "    return collection\n"
   ]
  },
  {
   "cell_type": "code",
   "execution_count": 8,
   "metadata": {},
   "outputs": [
    {
     "name": "stdout",
     "output_type": "stream",
     "text": [
      "Defaulting to user installation because normal site-packages is not writeable\n",
      "Collecting tqdm\n",
      "  Downloading tqdm-4.66.5-py3-none-any.whl.metadata (57 kB)\n",
      "Requirement already satisfied: colorama in c:\\users\\student\\appdata\\roaming\\python\\python310\\site-packages (from tqdm) (0.4.6)\n",
      "Downloading tqdm-4.66.5-py3-none-any.whl (78 kB)\n",
      "Installing collected packages: tqdm\n",
      "Successfully installed tqdm-4.66.5\n",
      "Note: you may need to restart the kernel to use updated packages.\n"
     ]
    },
    {
     "name": "stderr",
     "output_type": "stream",
     "text": [
      "  WARNING: The script tqdm.exe is installed in 'C:\\Users\\student\\AppData\\Roaming\\Python\\Python310\\Scripts' which is not on PATH.\n",
      "  Consider adding this directory to PATH or, if you prefer to suppress this warning, use --no-warn-script-location.\n"
     ]
    }
   ],
   "source": [
    "pip install tqdm"
   ]
  },
  {
   "cell_type": "code",
   "execution_count": 21,
   "metadata": {},
   "outputs": [
    {
     "name": "stderr",
     "output_type": "stream",
     "text": [
      "Processing images: 100%|██████████| 50000/50000 [00:18<00:00, 2757.39image/s]\n"
     ]
    },
    {
     "ename": "MemoryError",
     "evalue": "Unable to allocate 6.10 GiB for an array with shape (50000, 32, 16, 16, 4) and data type float32",
     "output_type": "error",
     "traceback": [
      "\u001b[1;31m---------------------------------------------------------------------------\u001b[0m",
      "\u001b[1;31mMemoryError\u001b[0m                               Traceback (most recent call last)",
      "Cell \u001b[1;32mIn[21], line 34\u001b[0m\n\u001b[0;32m     31\u001b[0m     \u001b[38;5;28;01mreturn\u001b[39;00m np\u001b[38;5;241m.\u001b[39marray(output)\n\u001b[0;32m     33\u001b[0m \u001b[38;5;66;03m# Apply the Quanvolutional layer to the training images with a progress bar\u001b[39;00m\n\u001b[1;32m---> 34\u001b[0m op_train \u001b[38;5;241m=\u001b[39m \u001b[43mapply_qnn_with_progress\u001b[49m\u001b[43m(\u001b[49m\u001b[43mtrain_images\u001b[49m\u001b[43m,\u001b[49m\u001b[43m \u001b[49m\u001b[43mQuan2D\u001b[49m\u001b[43m)\u001b[49m\n\u001b[0;32m     36\u001b[0m \u001b[38;5;66;03m# Apply the Quanvolutional layer to the test images with a progress bar\u001b[39;00m\n\u001b[0;32m     37\u001b[0m op_test \u001b[38;5;241m=\u001b[39m apply_qnn_with_progress(test_images, Quan2D)\n",
      "Cell \u001b[1;32mIn[21], line 31\u001b[0m, in \u001b[0;36mapply_qnn_with_progress\u001b[1;34m(images, layer)\u001b[0m\n\u001b[0;32m     28\u001b[0m         \u001b[38;5;66;03m# Update progress bar after processing each image\u001b[39;00m\n\u001b[0;32m     29\u001b[0m         pbar\u001b[38;5;241m.\u001b[39mupdate(\u001b[38;5;241m1\u001b[39m)\n\u001b[1;32m---> 31\u001b[0m \u001b[38;5;28;01mreturn\u001b[39;00m \u001b[43mnp\u001b[49m\u001b[38;5;241;43m.\u001b[39;49m\u001b[43marray\u001b[49m\u001b[43m(\u001b[49m\u001b[43moutput\u001b[49m\u001b[43m)\u001b[49m\n",
      "\u001b[1;31mMemoryError\u001b[0m: Unable to allocate 6.10 GiB for an array with shape (50000, 32, 16, 16, 4) and data type float32"
     ]
    }
   ],
   "source": [
    "# Quan2D = Quanvolutional_Layer(2,1,2,0)\n",
    "# op_train = Quan2D.call(train_images)\n",
    "\n",
    "# op_train = np.asarray(op_train, dtype=np.float32)\n",
    "\n",
    "# op_test  = Quan2D.call(test_images)\n",
    "# op_test  = np.asarray(op_test, dtype=np.float32)\n",
    "# print(op_train.shape)\n",
    "# print(op_test.shape)\n",
    "\n",
    "from tqdm import tqdm\n",
    "import numpy as np\n",
    "\n",
    "\n",
    "Quan2D = Quanvolutional_Layer(2,1,2,0)\n",
    "\n",
    "def apply_qnn_with_progress(images, layer):\n",
    "    n_samples = images.shape[0]  # Get number of samples\n",
    "    output = []\n",
    "\n",
    "    # Use tqdm to track progress\n",
    "    with tqdm(total=n_samples, desc=\"Processing images\", unit=\"image\") as pbar:\n",
    "        for i in range(n_samples):\n",
    "            # Apply Quanvolutional layer to each image\n",
    "            result = layer.call(images[i])  # Reshape if necessary\n",
    "            output.append(np.asarray(result, dtype=np.float32))\n",
    "           \n",
    "            # Update progress bar after processing each image\n",
    "            pbar.update(1)\n",
    "\n",
    "    return np.array(output)\n",
    "\n",
    "# Apply the Quanvolutional layer to the training images with a progress bar\n",
    "op_train = apply_qnn_with_progress(train_images, Quan2D)\n",
    "\n",
    "# Apply the Quanvolutional layer to the test images with a progress bar\n",
    "op_test = apply_qnn_with_progress(test_images, Quan2D)\n",
    "\n",
    "# Optionally print output shapes after the process completes\n",
    "print(\"Processed training images shape:\", op_train.shape)\n",
    "print(\"Processed test images shape:\", op_test.shape)"
   ]
  },
  {
   "cell_type": "code",
   "execution_count": null,
   "metadata": {},
   "outputs": [],
   "source": [
    "import numpy as np\n",
    "np.save(\"op_train_CIFR.csv\", op_train)\n",
    "np.save(\"op_test.csv_CIFR\", op_test)\n",
    "np.save(\"train_labels_CIFR\",train_labels)\n",
    "np.save(\"test_labes_CIFR\", test_labels)"
   ]
  },
  {
   "cell_type": "code",
   "execution_count": null,
   "metadata": {},
   "outputs": [
    {
     "data": {
      "image/png": "[encoded data removed]",
      "text/plain": [
       "<Figure size 1000x1000 with 20 Axes>"
      ]
     },
     "metadata": {},
     "output_type": "display_data"
    }
   ],
   "source": [
    "n_samples = 4\n",
    "n_channels = 4\n",
    "fig, axes = plt.subplots(1 + n_channels, n_samples, figsize=(10, 10))\n",
    "for k in range(n_samples):\n",
    "    axes[0, 0].set_ylabel(\"Input\")\n",
    "    if k != 0:\n",
    "        axes[0, k].yaxis.set_visible(False)\n",
    "    axes[0, k].imshow(train_images[k, :, :, 0], cmap=\"gray\")\n",
    "\n",
    "    # Plot all output channels\n",
    "    for c in range(n_channels):\n",
    "        axes[c + 1, 0].set_ylabel(\"Output [ch. {}]\".format(c))\n",
    "        if k != 0:\n",
    "            axes[c, k].yaxis.set_visible(False)\n",
    "        axes[c + 1, k].imshow(op_train[k, :, :, c], cmap=\"gray\")\n",
    "\n",
    "plt.tight_layout()\n",
    "plt.show()"
   ]
  },
  {
   "cell_type": "code",
   "execution_count": null,
   "metadata": {},
   "outputs": [],
   "source": [
    "model = keras.models.Sequential([\n",
    "        keras.layers.Flatten(),\n",
    "        keras.layers.Dense(512, activation='relu'),\n",
    "        keras.layers.Dense(64, activation='relu'),\n",
    "        keras.layers.Dense(10, activation=\"softmax\")\n",
    "    ])\n",
    "\n",
    "model.compile(\n",
    "        optimizer=keras.optimizers.SGD(learning_rate=lr),\n",
    "        loss=\"sparse_categorical_crossentropy\",\n",
    "        metrics=[\"accuracy\"],\n",
    "    )"
   ]
  },
  {
   "cell_type": "code",
   "execution_count": null,
   "metadata": {},
   "outputs": [
    {
     "name": "stdout",
     "output_type": "stream",
     "text": [
      "Epoch 1/30\n",
      "250/250 - 1s - 4ms/step - accuracy: 0.1750 - loss: 3.1752 - val_accuracy: 0.0600 - val_loss: 4.4562\n",
      "Epoch 2/30\n",
      "250/250 - 0s - 1ms/step - accuracy: 0.3060 - loss: 2.4623 - val_accuracy: 0.1200 - val_loss: 4.8525\n",
      "Epoch 3/30\n",
      "250/250 - 0s - 941us/step - accuracy: 0.3820 - loss: 2.1078 - val_accuracy: 0.0700 - val_loss: 4.3025\n",
      "Epoch 4/30\n",
      "250/250 - 0s - 1ms/step - accuracy: 0.4340 - loss: 1.8547 - val_accuracy: 0.0400 - val_loss: 4.8605\n",
      "Epoch 5/30\n",
      "250/250 - 0s - 742us/step - accuracy: 0.4800 - loss: 1.6633 - val_accuracy: 0.1300 - val_loss: 4.6261\n",
      "Epoch 6/30\n",
      "250/250 - 0s - 759us/step - accuracy: 0.5350 - loss: 1.4513 - val_accuracy: 0.1000 - val_loss: 5.1404\n",
      "Epoch 7/30\n",
      "250/250 - 0s - 772us/step - accuracy: 0.6010 - loss: 1.2531 - val_accuracy: 0.0700 - val_loss: 5.0503\n",
      "Epoch 8/30\n",
      "250/250 - 0s - 764us/step - accuracy: 0.6130 - loss: 1.1935 - val_accuracy: 0.0900 - val_loss: 4.8112\n",
      "Epoch 9/30\n",
      "250/250 - 0s - 921us/step - accuracy: 0.6500 - loss: 1.0599 - val_accuracy: 0.1000 - val_loss: 5.2340\n",
      "Epoch 10/30\n",
      "250/250 - 0s - 755us/step - accuracy: 0.6710 - loss: 1.0026 - val_accuracy: 0.0900 - val_loss: 5.8023\n",
      "Epoch 11/30\n",
      "250/250 - 0s - 775us/step - accuracy: 0.7140 - loss: 0.8843 - val_accuracy: 0.1000 - val_loss: 5.1747\n",
      "Epoch 12/30\n",
      "250/250 - 0s - 860us/step - accuracy: 0.7160 - loss: 0.8302 - val_accuracy: 0.0900 - val_loss: 4.9495\n",
      "Epoch 13/30\n",
      "250/250 - 0s - 788us/step - accuracy: 0.7500 - loss: 0.7663 - val_accuracy: 0.0600 - val_loss: 5.6436\n",
      "Epoch 14/30\n",
      "250/250 - 0s - 828us/step - accuracy: 0.7670 - loss: 0.6971 - val_accuracy: 0.1200 - val_loss: 5.4450\n",
      "Epoch 15/30\n",
      "250/250 - 0s - 803us/step - accuracy: 0.7920 - loss: 0.6497 - val_accuracy: 0.0900 - val_loss: 5.5698\n",
      "Epoch 16/30\n",
      "250/250 - 0s - 770us/step - accuracy: 0.7960 - loss: 0.6001 - val_accuracy: 0.1000 - val_loss: 5.6881\n",
      "Epoch 17/30\n",
      "250/250 - 0s - 835us/step - accuracy: 0.8260 - loss: 0.5717 - val_accuracy: 0.0600 - val_loss: 5.8877\n",
      "Epoch 18/30\n",
      "250/250 - 0s - 733us/step - accuracy: 0.8450 - loss: 0.5110 - val_accuracy: 0.0800 - val_loss: 5.8448\n",
      "Epoch 19/30\n",
      "250/250 - 0s - 713us/step - accuracy: 0.8520 - loss: 0.4849 - val_accuracy: 0.0800 - val_loss: 5.7384\n",
      "Epoch 20/30\n",
      "250/250 - 0s - 711us/step - accuracy: 0.8600 - loss: 0.4592 - val_accuracy: 0.0700 - val_loss: 5.9706\n",
      "Epoch 21/30\n",
      "250/250 - 0s - 820us/step - accuracy: 0.8990 - loss: 0.4154 - val_accuracy: 0.0900 - val_loss: 6.0692\n",
      "Epoch 22/30\n",
      "250/250 - 0s - 795us/step - accuracy: 0.9010 - loss: 0.3700 - val_accuracy: 0.0900 - val_loss: 5.9612\n",
      "Epoch 23/30\n",
      "250/250 - 0s - 786us/step - accuracy: 0.9290 - loss: 0.3476 - val_accuracy: 0.0900 - val_loss: 6.1107\n",
      "Epoch 24/30\n",
      "250/250 - 0s - 809us/step - accuracy: 0.9220 - loss: 0.3513 - val_accuracy: 0.1100 - val_loss: 5.9462\n",
      "Epoch 25/30\n",
      "250/250 - 0s - 765us/step - accuracy: 0.9250 - loss: 0.3223 - val_accuracy: 0.1000 - val_loss: 5.9145\n",
      "Epoch 26/30\n",
      "250/250 - 0s - 739us/step - accuracy: 0.9390 - loss: 0.3050 - val_accuracy: 0.0900 - val_loss: 6.1249\n",
      "Epoch 27/30\n",
      "250/250 - 0s - 818us/step - accuracy: 0.9370 - loss: 0.2974 - val_accuracy: 0.1000 - val_loss: 5.9904\n",
      "Epoch 28/30\n",
      "250/250 - 0s - 732us/step - accuracy: 0.9460 - loss: 0.2695 - val_accuracy: 0.1000 - val_loss: 6.2005\n",
      "Epoch 29/30\n",
      "250/250 - 0s - 697us/step - accuracy: 0.9400 - loss: 0.2650 - val_accuracy: 0.1000 - val_loss: 5.9981\n",
      "Epoch 30/30\n",
      "250/250 - 0s - 717us/step - accuracy: 0.9600 - loss: 0.2370 - val_accuracy: 0.1000 - val_loss: 6.1375\n"
     ]
    }
   ],
   "source": [
    "history = model.fit( op_train,\n",
    "                     train_labels,\n",
    "                     validation_data=(op_test, test_labels),\n",
    "                     batch_size=4,\n",
    "                     epochs=n_epochs,\n",
    "                     verbose=2,)"
   ]
  }
 ],
 "metadata": {
  "kaggle": {
   "accelerator": "none",
   "dataSources": [],
   "dockerImageVersionId": 30786,
   "isGpuEnabled": false,
   "isInternetEnabled": true,
   "language": "python",
   "sourceType": "notebook"
  },
  "kernelspec": {
   "display_name": "Python 3",
   "language": "python",
   "name": "python3"
  },
  "language_info": {
   "codemirror_mode": {
    "name": "ipython",
    "version": 3
   },
   "file_extension": ".py",
   "mimetype": "text/x-python",
   "name": "python",
   "nbconvert_exporter": "python",
   "pygments_lexer": "ipython3",
   "version": "3.10.5"
  },
  "vscode": {
   "interpreter": {
    "hash": "26de051ba29f2982a8de78e945f0abaf191376122a1563185a90213a26c5da77"
   }
  }
 },
 "nbformat": 4,
 "nbformat_minor": 4
}
